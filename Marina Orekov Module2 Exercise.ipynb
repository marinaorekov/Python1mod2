{
 "cells": [
  {
   "cell_type": "markdown",
   "metadata": {},
   "source": [
    "## Exercises\n",
    "### Write the pseudocode for these problems. \n",
    "\n",
    "#### Define the problem by constructing an IPO diagram showing input, output, and processing steps\n",
    "Ask yourself\n",
    "- What control structures (sequence, selection and repetition) are required?\n",
    "- What variables are required?\n",
    "\n",
    "Show a check of your solution with **test data** for at least **two valid test cases**\n",
    "If you use the numbers provided in the example then the correct pseudocode will calculate the same result.\n",
    "    "
   ]
  },
  {
   "cell_type": "markdown",
   "metadata": {},
   "source": [
    "#### 1. Find the average score\n",
    "A program is needed to prompt the user operator for exam scores, calculate the average score and display the result to the screen. The average score is calculated as the sum of the scores divided by the number of scores."
   ]
  },
  {
   "cell_type": "code",
   "execution_count": null,
   "metadata": {},
   "outputs": [],
   "source": [
    "BEGIN\n",
    "\n",
    "#Calculate Exam Score Average\n",
    "\n",
    "#input = array of exam scores\n",
    "#process = an average_score() function = sum(exam_scores array)/numOFExams\n",
    "#output = average score value\n",
    "\n",
    "\n",
    "#example1\n",
    "#input = 100,80,60\n",
    "#output = 80\n",
    "\n",
    "#example2\n",
    "#input = 90,90,90\n",
    "#output = 90\n",
    "\n",
    "\n",
    "END"
   ]
  },
  {
   "cell_type": "markdown",
   "metadata": {},
   "source": [
    "#### 2. How much water runs off a roof in a rain storm?\n",
    "To calculate the runoff from any given rainfall: Take the dimensions of the footprint of the roof and convert them to inches. (So, a 50' x 20' roof is 600\" x 240\"). Multiply the roof dimensions by the number of inches of rainfall. As an example, 600\" x 240\" x 1\" = 144,000 cubic inches of water for an inch of rainfall. Divide that result by 231 to get the number of gallons (because 1 gallon = 231 cubic inches). (144,000/231 = 623.38)."
   ]
  },
  {
   "cell_type": "code",
   "execution_count": null,
   "metadata": {},
   "outputs": [],
   "source": [
    "#I= dimension of roof in ft, inches of rain in Inches\n",
    "#P = 1. convert roof ft into inches, 2. muliply result from number 1 by actual inches of rain 3.divide result from number 2 b 231\n",
    "#O = result from step 3\n",
    "\n",
    "#example1\n",
    "#input = 20 x 20 ft roof, 5 inches of rain\n",
    "#output = 1246.75 GAL\n",
    "\n",
    "#example2\n",
    "#input 10 x 10 ft roof, 1 inch of rain\n",
    "#output = 62.34 GAL"
   ]
  },
  {
   "cell_type": "markdown",
   "metadata": {},
   "source": [
    "#### 3. Process customer record\n",
    "A program is required to read a customer’s name, a purchase amount and a tax code. The tax code has been validated and will be one of the following: 0 tax exempt (0%) 1 state sales tax only (3%) 2 federal and state sales tax (5%) 3 special sales tax (7%) The program must then compute the sales tax and the total amount due,and print the customer’s name, purchase amount, sales tax and total amount due."
   ]
  },
  {
   "cell_type": "code",
   "execution_count": null,
   "metadata": {},
   "outputs": [],
   "source": [
    "#input = customer name, purchase amount, tax code\n",
    "#process = computer sales tax = getTaxCode(Value), compute total = (sales_tax x purchase_amount) + purchase amount \n",
    "#output = sales_tax, total_due, also print: customer name, purchase amount, salestax, total amount due\n",
    "\n",
    "#example1: Ben 10$ tax code 0\n",
    "#output = Ben, 10$, 0$, 10$\n",
    "\n",
    "#example2: Marina, 100$, tax code 1\n",
    "#output = Marina, 100$, 3%, 103$\n"
   ]
  },
  {
   "cell_type": "markdown",
   "metadata": {},
   "source": [
    "#### 4. Calculate employee's pay \n",
    "A program is required by a company to read an employee’s number, pay rate and the number of hours worked in a week. The program is then to validate the pay rate field and the hours worked field and, if valid, compute the employee’s weekly pay and then print it and the input data.\n",
    "\n",
    "Validation: According to the company’s rules, the maximum hours an employee can work per week is 60 hours, and the maximum hourly rate is $25.00 per hour. If the hours worked field or the hourly rate field is out of range, the input data and an appropriate message are to be printed and the employee’s weekly pay is not to be calculated.\n",
    "\n",
    "Weekly pay calculation: Weekly pay is calculated as hours worked times pay rate. If more than 35 hours are worked, payment for the overtime hours worked is calculated at time-and-a-half."
   ]
  },
  {
   "cell_type": "code",
   "execution_count": null,
   "metadata": {},
   "outputs": [],
   "source": [
    "#input employee number, pay rate, numHoursWorkedperWeek\n",
    "#process maxHours = 60 maxPay = 25\n",
    "#forEachEmployee if ((maxHours <= 60) & (maxPay <=25)){\n",
    "#echo($maxHours, \" \",$maxPay)\n",
    "#else echo (\"invalid data\")\n",
    "\n",
    "#employee max = 99 hours at 39$\n",
    "#output = invalid\n",
    "\n",
    "#employee marina = 10 hours at 20$ per hour\n",
    "#output = 10 20\n",
    "\n"
   ]
  }
 ],
 "metadata": {
  "kernelspec": {
   "display_name": "Python 3 (ipykernel)",
   "language": "python",
   "name": "python3"
  },
  "language_info": {
   "codemirror_mode": {
    "name": "ipython",
    "version": 3
   },
   "file_extension": ".py",
   "mimetype": "text/x-python",
   "name": "python",
   "nbconvert_exporter": "python",
   "pygments_lexer": "ipython3",
   "version": "3.10.9"
  }
 },
 "nbformat": 4,
 "nbformat_minor": 2
}
